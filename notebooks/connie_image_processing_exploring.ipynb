{
 "cells": [
  {
   "attachments": {},
   "cell_type": "markdown",
   "metadata": {
    "id": "GiuU7RrO-JkL"
   },
   "source": [
    "# Exploring Image Processing with CONNIE Data"
   ]
  },
  {
   "cell_type": "code",
   "execution_count": null,
   "metadata": {},
   "outputs": [],
   "source": [
    "%run ./notebook_init.py\n",
    "\n",
    "import os\n",
    "import cv2 as cv\n",
    "import numpy as np\n",
    "import matplotlib.pyplot as plt\n",
    "\n",
    "from glob import glob\n",
    "from astropy.io import fits\n",
    "\n",
    "from core import DATA_FOLDER"
   ]
  },
  {
   "cell_type": "code",
   "execution_count": null,
   "metadata": {},
   "outputs": [],
   "source": [
    "# %matplotlib ipympl"
   ]
  },
  {
   "cell_type": "code",
   "execution_count": null,
   "metadata": {},
   "outputs": [],
   "source": [
    "file_ext = \"fits\"\n",
    "\n",
    "image_folder_path = os.path.join(DATA_FOLDER, \"connie_raw_dataset\")\n",
    "calibrated_img_path = os.path.join(image_folder_path, \"calibrated_images\")\n",
    "mask_path = os.path.join(image_folder_path, \"mask\")"
   ]
  },
  {
   "cell_type": "code",
   "execution_count": null,
   "metadata": {},
   "outputs": [],
   "source": [
    "calibrated_img_path_list = glob(os.path.join(calibrated_img_path, \"*\" + file_ext))\n",
    "mask_path_list = glob(os.path.join(mask_path, \"*\" + file_ext))"
   ]
  },
  {
   "cell_type": "code",
   "execution_count": null,
   "metadata": {},
   "outputs": [],
   "source": [
    "calibrated_img = []\n",
    "mask = []\n",
    "\n",
    "for img in calibrated_img_path_list:\n",
    "    calibrated_img.append(fits.open(img)[0])\n",
    "\n",
    "for img in mask_path_list:\n",
    "    mask.append(fits.open(img)[0])"
   ]
  },
  {
   "cell_type": "code",
   "execution_count": null,
   "metadata": {},
   "outputs": [],
   "source": [
    "calibrated_img_list = []\n",
    "for img in calibrated_img:\n",
    "    calibrated_img_list.append(img.data)"
   ]
  },
  {
   "cell_type": "code",
   "execution_count": null,
   "metadata": {},
   "outputs": [],
   "source": [
    "calibrated_img_np = np.array(calibrated_img_list)\n",
    "calibrated_img_np_flatten = calibrated_img_np.flatten()\n",
    "    \n",
    "print(f\"Shape calibrated_img_np = {np.shape(calibrated_img_np)}\")\n",
    "print(f\"Shape calibrated_img_np_flatten = {np.shape(calibrated_img_np_flatten)}\")"
   ]
  },
  {
   "cell_type": "code",
   "execution_count": null,
   "metadata": {},
   "outputs": [],
   "source": [
    "fig, axes = plt.subplots(1, 1, figsize=(7,4))\n",
    "\n",
    "fig.canvas.header_visible = False\n",
    "\n",
    "axes.hist(calibrated_img_np_flatten, bins=100)\n",
    "axes.set_yscale(\"log\")\n",
    "axes.set_ylabel(\"Number of occurrences\")\n",
    "axes.set_xlabel(\"Pixel value\")\n",
    "fig.suptitle(\"Histogram of the whole dataset\")"
   ]
  },
  {
   "cell_type": "code",
   "execution_count": null,
   "metadata": {},
   "outputs": [],
   "source": [
    "num_imgs = 10\n",
    "nrows = 2\n",
    "ncols = 5"
   ]
  },
  {
   "cell_type": "code",
   "execution_count": null,
   "metadata": {},
   "outputs": [],
   "source": [
    "fig, axes = plt.subplots(nrows, ncols, figsize=(11.8,6.5), num=1, clear=True)\n",
    "fig.canvas.header_visible = False\n",
    "\n",
    "for idx, ax in enumerate(axes.ravel()):\n",
    "    ax.hist(calibrated_img_np[idx].flatten(), bins=100)\n",
    "    ax.set_title(f\"Image {idx}\")\n",
    "    ax.set_yscale(\"log\")\n",
    "fig.suptitle(f\"Histogram of the first {num_imgs} images\")\n",
    "fig.tight_layout()\n"
   ]
  },
  {
   "attachments": {},
   "cell_type": "markdown",
   "metadata": {},
   "source": [
    "The masks can have 3 values, according to the table below\n",
    "\n",
    "| Value |               Meaning               |\n",
    "|-------|-------------------------------------|\n",
    "| 128   | Possible Serial Register Events     | \n",
    "| 64    | Hot pixel                           |\n",
    "| 0     | Pixel that will be used for analysis|"
   ]
  },
  {
   "cell_type": "code",
   "execution_count": null,
   "metadata": {},
   "outputs": [],
   "source": [
    "fig, axes = plt.subplots(nrows, ncols, figsize=(10,8), num=1, clear=True)\n",
    "fig.canvas.header_visible = False\n",
    "\n",
    "for idx, ax in enumerate(axes.ravel()):\n",
    "    ax.imshow(mask[idx].data, vmin=0, vmax=128)\n",
    "    ax.set_title(f\"Mask {idx}\")\n",
    "fig.suptitle(f\"Display of the first {num_imgs} masks\")\n",
    "fig.tight_layout()\n"
   ]
  },
  {
   "cell_type": "code",
   "execution_count": null,
   "metadata": {},
   "outputs": [],
   "source": [
    "fig, axes = plt.subplots(nrows, ncols, figsize=(10,8), num=1, clear=True)\n",
    "fig.canvas.header_visible = False\n",
    "\n",
    "for idx, ax in enumerate(axes.ravel()):\n",
    "    image_with_mask = np.ma.masked_array(calibrated_img_np[idx], mask[idx].data.astype(bool))\n",
    "    print(f\"Image {idx}\\nMin value = {np.nanmin(image_with_mask)}\".ljust(35),\n",
    "          f\"Max value = {np.nanmax(image_with_mask)}\\n\")\n",
    "    ax.imshow(image_with_mask, vmin=-500, vmax=1000)\n",
    "    ax.set_title(f\"Image {idx}\")\n",
    "    fig.suptitle(f\"Display of the first {num_imgs} images with mask\")\n",
    "fig.tight_layout()\n"
   ]
  },
  {
   "attachments": {},
   "cell_type": "markdown",
   "metadata": {},
   "source": [
    "The masks will not be used for now because some pixels in a particle track may be masked, making identification difficult.\n",
    "\n",
    "But, we will mask the pixels corresponding to overscan (last 70 columns) + prescan (first 8 columns) "
   ]
  },
  {
   "cell_type": "code",
   "execution_count": null,
   "metadata": {},
   "outputs": [],
   "source": [
    "new_mask = np.full(np.shape(calibrated_img_np[0]), False)\n",
    "\n",
    "prescan = 8\n",
    "overscan = 70\n",
    "frame = 5\n",
    "\n",
    "# new_mask[:, :prescan+frame] = True\n",
    "# new_mask[:, -(overscan+frame):] = True\n",
    "# new_mask[:frame, :] = True\n",
    "# new_mask[-frame:, :] = True\n",
    "\n",
    "new_mask[:, :frame] = True\n",
    "new_mask[:, -frame:] = True\n",
    "new_mask[:frame, :] = True\n",
    "new_mask[-frame:, :] = True"
   ]
  },
  {
   "cell_type": "code",
   "execution_count": null,
   "metadata": {},
   "outputs": [],
   "source": [
    "fig, axes = plt.subplots(1, 1, figsize=(7, 5), num=1, clear=True)\n",
    "\n",
    "data = np.ma.masked_array(calibrated_img_np[0], new_mask)\n",
    "\n",
    "fig.canvas.header_visible = False\n",
    "axes.imshow(data, vmin=-200, vmax=1000)\n",
    "fig.suptitle(\"Masking the first image\")\n"
   ]
  },
  {
   "cell_type": "code",
   "execution_count": null,
   "metadata": {},
   "outputs": [],
   "source": [
    "masked_border_img = []\n",
    "\n",
    "for img in calibrated_img_np:\n",
    "    masked_border_img.append(np.ma.masked_array(img, new_mask, fill_value=np.nan))\n",
    "\n",
    "masked_border_img_np = np.array(masked_border_img)"
   ]
  },
  {
   "cell_type": "code",
   "execution_count": null,
   "metadata": {},
   "outputs": [],
   "source": [
    "masked_border_img[0]"
   ]
  },
  {
   "attachments": {},
   "cell_type": "markdown",
   "metadata": {},
   "source": [
    "## Analyzing the data"
   ]
  },
  {
   "attachments": {},
   "cell_type": "markdown",
   "metadata": {},
   "source": [
    "The image data is float32, with negative values included. To create the mask, we will test some processing as normalization, standalization and adding offset."
   ]
  },
  {
   "cell_type": "code",
   "execution_count": null,
   "metadata": {},
   "outputs": [],
   "source": [
    "def normalization(img, min_max=None, new_min=0, new_max=255):\n",
    "    if min_max:\n",
    "        min_value, max_value = min_max\n",
    "    else:\n",
    "        min_value, max_value = np.min(img), np.max(img)\n",
    "    return (((img - min_value) / (max_value - min_value))*(new_max-new_min)) + new_min"
   ]
  },
  {
   "cell_type": "code",
   "execution_count": null,
   "metadata": {},
   "outputs": [],
   "source": [
    "def standardization(img, mean_std=None):\n",
    "    if mean_std:\n",
    "        mean_value, std_value = mean_std\n",
    "    else:\n",
    "        mean_value, std_value = np.mean(img), np.std(img)\n",
    "    return (img - mean_value) / std_value"
   ]
  },
  {
   "cell_type": "code",
   "execution_count": null,
   "metadata": {},
   "outputs": [],
   "source": [
    "def offset(img):\n",
    "    return img + abs(np.min(img))"
   ]
  },
  {
   "attachments": {},
   "cell_type": "markdown",
   "metadata": {},
   "source": [
    "As talked with Professor Irina, the negative values are not relevant in this analysis, as it do not represent a event. In the function below, we will replace the values below 0.64 with 0."
   ]
  },
  {
   "cell_type": "code",
   "execution_count": null,
   "metadata": {},
   "outputs": [],
   "source": [
    "def replace_negative(img):\n",
    "    # 4 sigma (0.16) == 0.64\n",
    "    return img.clip(0.64)"
   ]
  },
  {
   "cell_type": "code",
   "execution_count": null,
   "metadata": {},
   "outputs": [],
   "source": [
    "test_images = masked_border_img[:num_imgs]"
   ]
  },
  {
   "attachments": {},
   "cell_type": "markdown",
   "metadata": {},
   "source": [
    "### Considering current image metrics"
   ]
  },
  {
   "cell_type": "code",
   "execution_count": null,
   "metadata": {},
   "outputs": [],
   "source": [
    "calibrated_img_np_norm, calibrated_img_np_std, calibrated_img_np_offset, calibrated_img_np_clip = [], [], [], []\n",
    "for img in test_images:\n",
    "    calibrated_img_np_norm.append(normalization(img))\n",
    "    calibrated_img_np_std.append(standardization(img))\n",
    "    calibrated_img_np_offset.append(offset(img))\n",
    "    calibrated_img_np_clip.append(replace_negative(img))"
   ]
  },
  {
   "cell_type": "code",
   "execution_count": null,
   "metadata": {},
   "outputs": [],
   "source": [
    "for idx in range(num_imgs):\n",
    "    print(f\"Min value of calibrated_img_np_norm[{idx}] = {np.min(calibrated_img_np_norm[idx])}\")\n",
    "    print(f\"Min value of calibrated_img_np_std[{idx}] = {np.min(calibrated_img_np_std[idx])}\")\n",
    "    print(f\"Min value of calibrated_img_np_offset[{idx}] = {np.min(calibrated_img_np_offset[idx])}\")\n",
    "    print(f\"Min value of calibrated_img_np_clip[{idx}] = {np.min(calibrated_img_np_clip[idx])}\\n\")\n",
    "\n",
    "    print(f\"Max value of calibrated_img_np_norm[{idx}] = {np.max(calibrated_img_np_norm[idx])}\")\n",
    "    print(f\"Max value of calibrated_img_np_std[{idx}] = {np.max(calibrated_img_np_std[idx])}\")\n",
    "    print(f\"Max value of calibrated_img_np_offset[{idx}] = {np.max(calibrated_img_np_offset[idx])}\")\n",
    "    print(f\"Max value of calibrated_img_np_clip[{idx}] = {np.max(calibrated_img_np_clip[idx])}\")\n",
    "    print(\"---------------\")"
   ]
  },
  {
   "cell_type": "code",
   "execution_count": null,
   "metadata": {},
   "outputs": [],
   "source": [
    "fig, axes = plt.subplots(nrows, ncols, figsize=(10, 8), num=1, clear=True)\n",
    "fig.canvas.header_visible = False\n",
    "\n",
    "for idx, ax in enumerate(axes.ravel()):\n",
    "    ax.imshow(calibrated_img_np_norm[idx], vmin=0, vmax=50)\n",
    "    ax.set_title(f\"Image {idx}\")\n",
    "    fig.suptitle(\"Normalization\")\n",
    "fig.tight_layout()\n"
   ]
  },
  {
   "cell_type": "code",
   "execution_count": null,
   "metadata": {},
   "outputs": [],
   "source": [
    "fig, axes = plt.subplots(nrows, ncols, figsize=(11.8,6.5), num=1, clear=True)\n",
    "fig.canvas.header_visible = False\n",
    "\n",
    "for idx, ax in enumerate(axes.ravel()):\n",
    "    ax.hist(calibrated_img_np_norm[idx].flatten(), bins=100)\n",
    "    ax.set_title(f\"Image {idx}\")\n",
    "    ax.set_yscale(\"log\")\n",
    "    fig.suptitle(f\"Histogram of the first {num_imgs} images - Normalization\")\n",
    "fig.tight_layout()\n"
   ]
  },
  {
   "cell_type": "code",
   "execution_count": null,
   "metadata": {},
   "outputs": [],
   "source": [
    "fig, axes = plt.subplots(nrows, ncols, figsize=(10, 8), num=1, clear=True)\n",
    "fig.canvas.header_visible = False\n",
    "\n",
    "for idx, ax in enumerate(axes.ravel()):\n",
    "    ax.imshow(calibrated_img_np_std[idx], vmin=0, vmax=5)\n",
    "    ax.set_title(f\"Image {idx}\")\n",
    "    fig.suptitle(\"Standalization\")\n",
    "fig.tight_layout()\n"
   ]
  },
  {
   "cell_type": "code",
   "execution_count": null,
   "metadata": {},
   "outputs": [],
   "source": [
    "fig, axes = plt.subplots(nrows, ncols, figsize=(11.8,6.5), num=1, clear=True)\n",
    "fig.canvas.header_visible = False\n",
    "\n",
    "for idx, ax in enumerate(axes.ravel()):\n",
    "    ax.hist(calibrated_img_np_std[idx].flatten(), bins=100)\n",
    "    ax.set_title(f\"Image {idx}\")\n",
    "    ax.set_yscale(\"log\")\n",
    "    fig.suptitle(f\"Histogram of the first {num_imgs} images - Standardization\")\n",
    "fig.tight_layout()\n"
   ]
  },
  {
   "cell_type": "code",
   "execution_count": null,
   "metadata": {},
   "outputs": [],
   "source": [
    "fig, axes = plt.subplots(nrows, ncols, figsize=(10, 8), num=1, clear=True)\n",
    "\n",
    "fig.canvas.header_visible = False\n",
    "\n",
    "for idx, ax in enumerate(axes.ravel()):\n",
    "    ax.imshow(calibrated_img_np_offset[idx], vmin=0, vmax=1000)\n",
    "    ax.set_title(f\"Image {idx}\")\n",
    "    fig.suptitle(\"Offset\")\n",
    "fig.tight_layout()\n"
   ]
  },
  {
   "cell_type": "code",
   "execution_count": null,
   "metadata": {},
   "outputs": [],
   "source": [
    "fig, axes = plt.subplots(nrows, ncols, figsize=(11.8,6.5), num=1, clear=True)\n",
    "fig.canvas.header_visible = False\n",
    "\n",
    "for idx, ax in enumerate(axes.ravel()):\n",
    "    ax.hist(calibrated_img_np_offset[idx].flatten(), bins=100)\n",
    "    ax.set_title(f\"Image {idx}\")\n",
    "    ax.set_yscale(\"log\")\n",
    "    fig.suptitle(f\"Histogram of the first {num_imgs} images - Offset\")\n",
    "fig.tight_layout()\n"
   ]
  },
  {
   "attachments": {},
   "cell_type": "markdown",
   "metadata": {},
   "source": [
    "Standardization it's not what we are looking for, as the negative values are kept."
   ]
  },
  {
   "cell_type": "code",
   "execution_count": null,
   "metadata": {},
   "outputs": [],
   "source": [
    "fig, axes = plt.subplots(nrows, ncols, figsize=(10, 8), num=1, clear=True)\n",
    "\n",
    "fig.canvas.header_visible = False\n",
    "\n",
    "for idx, ax in enumerate(axes.ravel()):\n",
    "    ax.imshow(calibrated_img_np_clip[idx], vmin=0, vmax=1000)\n",
    "    ax.set_title(f\"Image {idx}\")\n",
    "    fig.suptitle(\"Clip negative values\")\n",
    "fig.tight_layout()\n"
   ]
  },
  {
   "cell_type": "code",
   "execution_count": null,
   "metadata": {},
   "outputs": [],
   "source": [
    "fig, axes = plt.subplots(nrows, ncols, figsize=(11.8,6.5), num=1, clear=True)\n",
    "fig.canvas.header_visible = False\n",
    "\n",
    "for idx, ax in enumerate(axes.ravel()):\n",
    "    ax.hist(calibrated_img_np_clip[idx].flatten(), bins=100)\n",
    "    ax.set_title(f\"Image {idx}\")\n",
    "    ax.set_yscale(\"log\")\n",
    "    fig.suptitle(f\"Histogram of the first {num_imgs} images - Clip\")\n",
    "fig.tight_layout()\n"
   ]
  },
  {
   "attachments": {},
   "cell_type": "markdown",
   "metadata": {},
   "source": [
    "## Creating Masks"
   ]
  },
  {
   "cell_type": "code",
   "execution_count": null,
   "metadata": {},
   "outputs": [],
   "source": [
    "test_img_norm = calibrated_img_np_norm[0]\n",
    "test_img_clip = calibrated_img_np_clip[0]\n",
    "test_img = test_img_clip"
   ]
  },
  {
   "cell_type": "code",
   "execution_count": null,
   "metadata": {},
   "outputs": [],
   "source": [
    "binary_mask = image_contours = np.zeros((test_img.shape[0],\n",
    "                                         test_img.shape[1]),\n",
    "                                         np.uint8)\n",
    "print(f\"Shape = {np.shape(binary_mask)}\")"
   ]
  },
  {
   "cell_type": "code",
   "execution_count": null,
   "metadata": {},
   "outputs": [],
   "source": [
    "print(f\"Min value = {np.min(test_img)}\")\n",
    "print(f\"Max value = {np.max(test_img)}\")\n",
    "print(f\"Shape = {np.shape(test_img)}\")\n",
    "print(test_img)"
   ]
  },
  {
   "cell_type": "code",
   "execution_count": null,
   "metadata": {},
   "outputs": [],
   "source": [
    "num_imgs = 5"
   ]
  },
  {
   "attachments": {},
   "cell_type": "markdown",
   "metadata": {},
   "source": [
    "### Global thresholding"
   ]
  },
  {
   "cell_type": "code",
   "execution_count": null,
   "metadata": {},
   "outputs": [],
   "source": [
    "factor = 3.745\n",
    "threshold_ev = 10\n",
    "threshold = threshold_ev/factor\n",
    "print(f\"Threshold in e- value equivalent to {threshold_ev}eV = {threshold}\")"
   ]
  },
  {
   "cell_type": "code",
   "execution_count": null,
   "metadata": {},
   "outputs": [],
   "source": [
    "kernel_1_1 = np.ones((1, 1), np.uint8) \n",
    "kernel_2_2 = np.ones((2, 2), np.uint8)\n",
    "kernel_3_3 = np.ones((3, 3), np.uint8) \n",
    "kernel_4_4 = np.ones((4, 4), np.uint8)\n",
    "\n",
    "kernel_2_1 = np.ones((2, 1), np.uint8) \n",
    "kernel_3_2 = np.ones((3, 2), np.uint8) \n",
    "kernel_4_2 = np.ones((4, 2), np.uint8)\n",
    "kernel_5_3 = np.ones((5, 3), np.uint8) \n",
    "kernel_5_4 = np.ones((5, 4), np.uint8) \n",
    "kernel_6_1 = np.ones((6, 1), np.uint8) \n",
    "kernel_6_2 = np.ones((6, 2), np.uint8) \n",
    "kernel_6_3 = np.ones((6, 3), np.uint8) \n",
    "kernel_6_4 = np.ones((6, 4), np.uint8) "
   ]
  },
  {
   "attachments": {},
   "cell_type": "markdown",
   "metadata": {},
   "source": [
    "#### Without morphological transformation"
   ]
  },
  {
   "cell_type": "code",
   "execution_count": null,
   "metadata": {},
   "outputs": [],
   "source": [
    "fig, axes = plt.subplots(num_imgs, 3, figsize=(10, 35), num=1, clear=True)\n",
    "fig.canvas.header_visible = False\n",
    "\n",
    "for idx in range(num_imgs):\n",
    "    img_clip = calibrated_img_np_clip[idx]\n",
    "    img_original = calibrated_img_np_clip[idx].copy()\n",
    "    axes[idx, 0].imshow(img_clip, vmin=0, vmax=1000)\n",
    "    axes[idx, 0].set_title(f\"Original Image {idx}\")\n",
    "    _, img_thresh = cv.threshold(img_clip, threshold, 255, cv.THRESH_BINARY)\n",
    "    axes[idx, 1].imshow(img_thresh, vmin=0, vmax=255)\n",
    "    axes[idx, 1].set_title(f\"Image thresh {idx}\")\n",
    "\n",
    "    mask_inverted = ~(img_thresh).astype(np.uint8)\n",
    "    contours = cv.findContours(mask_inverted, cv.RETR_TREE, cv.CHAIN_APPROX_TC89_KCOS)[0]\n",
    "\n",
    "    boxes = []\n",
    "    for contour in contours:\n",
    "        boxes.append(cv.boundingRect(contour))\n",
    "\n",
    "    for box in boxes:\n",
    "        top_left = (box[0], box[1])\n",
    "        bottom_right = (box[0] + box[2], box[1] + box[3])\n",
    "        cv.rectangle(img_original, top_left, bottom_right, (255,0,0), 5)\n",
    "    \n",
    "    axes[idx, 2].imshow(img_original, vmin=0, vmax=1000)\n",
    "    axes[idx, 2].set_title(f\"Image Contours {idx}\")\n",
    "    \n",
    "fig.suptitle(\"Global Threshold\")\n",
    "fig.tight_layout()"
   ]
  },
  {
   "attachments": {},
   "cell_type": "markdown",
   "metadata": {},
   "source": [
    "#### With closing and opening transformation and gaussian blur"
   ]
  },
  {
   "cell_type": "code",
   "execution_count": null,
   "metadata": {},
   "outputs": [],
   "source": [
    "fig, axes = plt.subplots(num_imgs, 3, figsize=(10, 35), num=1, clear=True)\n",
    "fig.canvas.header_visible = False\n",
    "\n",
    "for idx in range(num_imgs):\n",
    "    img_clip = calibrated_img_np_clip[idx]\n",
    "    img_original = calibrated_img_np_clip[idx].copy()\n",
    "    axes[idx, 0].imshow(img_clip, vmin=0, vmax=1000)\n",
    "    axes[idx, 0].set_title(f\"Original Image {idx}\")\n",
    "    blurred_img = cv.GaussianBlur(img_clip, (3, 3), 0)\n",
    "    _, img_thresh = cv.threshold(blurred_img, threshold, 255, cv.THRESH_BINARY)\n",
    "\n",
    "    mask = cv.morphologyEx(img_thresh.astype(np.uint8), cv.MORPH_CLOSE, kernel_2_2)\n",
    "    mask = cv.morphologyEx(mask, cv.MORPH_OPEN, kernel_2_2) \n",
    "    mask_inverted = ~mask \n",
    "\n",
    "    axes[idx, 1].imshow(mask_inverted, vmin=0, vmax=255)\n",
    "    axes[idx, 1].set_title(f\"Image mask {idx}\")\n",
    "\n",
    "    contours = cv.findContours(mask_inverted, cv.RETR_TREE, cv.CHAIN_APPROX_TC89_KCOS)[0]\n",
    "\n",
    "    boxes = []\n",
    "    for contour in contours:\n",
    "        boxes.append(cv.boundingRect(contour))\n",
    "\n",
    "    for box in boxes:\n",
    "        top_left = (box[0], box[1])\n",
    "        bottom_right = (box[0] + box[2], box[1] + box[3])\n",
    "        cv.rectangle(img_original, top_left, bottom_right, (255,0,0), 5)\n",
    "    \n",
    "    axes[idx, 2].imshow(img_original, vmin=0, vmax=1000)\n",
    "    axes[idx, 2].set_title(f\"Image Contours {idx}\")\n",
    "    \n",
    "fig.suptitle(\"Global Threshold\")\n",
    "fig.tight_layout()"
   ]
  },
  {
   "attachments": {},
   "cell_type": "markdown",
   "metadata": {},
   "source": [
    "#### Opening (erosion + dilatation) and erosion"
   ]
  },
  {
   "cell_type": "code",
   "execution_count": null,
   "metadata": {},
   "outputs": [],
   "source": [
    "fig, axes = plt.subplots(num_imgs, 3, figsize=(10, 35), num=1, clear=True)\n",
    "fig.canvas.header_visible = False\n",
    "\n",
    "for idx in range(num_imgs):\n",
    "    img_clip = calibrated_img_np_clip[idx]\n",
    "    img_original = calibrated_img_np_clip[idx].copy()\n",
    "    axes[idx, 0].imshow(img_clip, vmin=0, vmax=1000)\n",
    "    axes[idx, 0].set_title(f\"Original Image {idx}\")\n",
    "    blurred_img = cv.GaussianBlur(img_clip, (3, 3), 0)\n",
    "    _, img_thresh = cv.threshold(blurred_img, threshold, 255, cv.THRESH_BINARY)\n",
    "\n",
    "    mask = cv.morphologyEx(img_thresh.astype(np.uint8), cv.MORPH_OPEN,\n",
    "                           cv.getStructuringElement(cv.MORPH_CROSS,(3,3)))\n",
    "    mask = cv.dilate(mask,\n",
    "                     cv.getStructuringElement(cv.MORPH_CROSS,(1,1)), iterations=1)\n",
    "    mask = cv.erode(mask,\n",
    "                    cv.getStructuringElement(cv.MORPH_CROSS,(4, 4)), iterations=1)\n",
    "\n",
    "    axes[idx, 1].imshow(mask, vmin=0, vmax=255)\n",
    "    axes[idx, 1].set_title(f\"Image mask {idx}\")\n",
    "    \n",
    "    contours = cv.findContours(mask, cv.RETR_TREE, cv.CHAIN_APPROX_TC89_KCOS)[0]\n",
    "\n",
    "    contour_area_min = 2\n",
    "\n",
    "    boxes = []\n",
    "    for contour in contours:\n",
    "        if (cv.contourArea(contour) >= contour_area_min):\n",
    "            boxes.append(cv.boundingRect(contour))\n",
    "\n",
    "    for box in boxes:\n",
    "        top_left = (box[0], box[1])\n",
    "        bottom_right = (box[0] + box[2], box[1] + box[3])\n",
    "        cv.rectangle(img_original, top_left, bottom_right, (255,0,0), 5)\n",
    "    \n",
    "    axes[idx, 2].imshow(img_original, vmin=0, vmax=1000)\n",
    "    axes[idx, 2].set_title(f\"Image Contours {idx}\")\n",
    "    \n",
    "fig.suptitle(\"Global Threshold\")\n",
    "fig.tight_layout()"
   ]
  },
  {
   "attachments": {},
   "cell_type": "markdown",
   "metadata": {},
   "source": [
    "#### Dilatation"
   ]
  },
  {
   "cell_type": "code",
   "execution_count": null,
   "metadata": {},
   "outputs": [],
   "source": [
    "fig, axes = plt.subplots(num_imgs, 3, figsize=(10, 35), num=1, clear=True)\n",
    "fig.canvas.header_visible = False\n",
    "\n",
    "kernel = np.ones((5, 5), np.uint8) \n",
    "\n",
    "for idx in range(num_imgs):\n",
    "    img_clip = calibrated_img_np_clip[idx]\n",
    "    img_original = calibrated_img_np_clip[idx].copy()\n",
    "    axes[idx, 0].imshow(img_clip, vmin=0, vmax=1000)\n",
    "    axes[idx, 0].set_title(f\"Original Image {idx}\")\n",
    "    blurred_img = cv.GaussianBlur(img_clip, (3, 3), 0)\n",
    "    _, img_thresh = cv.threshold(blurred_img, threshold, 255, cv.THRESH_BINARY)\n",
    "\n",
    "    mask = cv.dilate(img_thresh.astype(np.uint8), kernel, iterations=1)\n",
    "    mask_inverted = ~mask\n",
    "    axes[idx, 1].imshow(mask_inverted, vmin=0, vmax=255)\n",
    "    axes[idx, 1].set_title(f\"Image mask {idx}\")\n",
    "\n",
    "\n",
    "    contours = cv.findContours(mask, cv.RETR_TREE, cv.CHAIN_APPROX_TC89_KCOS)[0]\n",
    "\n",
    "    boxes = []\n",
    "    for contour in contours:\n",
    "        boxes.append(cv.boundingRect(contour))\n",
    "\n",
    "    for box in boxes:\n",
    "        top_left = (box[0], box[1])\n",
    "        bottom_right = (box[0] + box[2], box[1] + box[3])\n",
    "        cv.rectangle(img_original, top_left, bottom_right, (255,0,0), 5)\n",
    "    \n",
    "    axes[idx, 2].imshow(img_original, vmin=0, vmax=1000)\n",
    "    axes[idx, 2].set_title(f\"Image Contours {idx}\")\n",
    "    \n",
    "fig.suptitle(\"Global Threshold\")\n",
    "fig.tight_layout()"
   ]
  },
  {
   "attachments": {},
   "cell_type": "markdown",
   "metadata": {},
   "source": [
    "#### Erosion"
   ]
  },
  {
   "cell_type": "code",
   "execution_count": null,
   "metadata": {},
   "outputs": [],
   "source": [
    "fig, axes = plt.subplots(num_imgs, 3, figsize=(10, 35), num=1, clear=True)\n",
    "fig.canvas.header_visible = False\n",
    "\n",
    "for idx in range(num_imgs):\n",
    "    img_clip = calibrated_img_np_clip[idx]\n",
    "    img_original = calibrated_img_np_clip[idx].copy()\n",
    "    axes[idx, 0].imshow(img_clip, vmin=0, vmax=1000)\n",
    "    axes[idx, 0].set_title(f\"Original Image {idx}\")\n",
    "    blurred_img = cv.GaussianBlur(img_clip, (3, 3), 0)\n",
    "    _, img_thresh = cv.threshold(blurred_img, threshold, 255, cv.THRESH_BINARY)\n",
    "    axes[idx, 1].imshow(img_thresh, vmin=0, vmax=255)\n",
    "    axes[idx, 1].set_title(f\"Image thresh {idx}\")\n",
    "\n",
    "    mask = cv.dilate(img_thresh.astype(np.uint8), kernel_2_1, iterations=1)\n",
    "    mask = cv.erode(mask, kernel_4_2, iterations=1)\n",
    "    contours = cv.findContours(mask, cv.RETR_TREE, cv.CHAIN_APPROX_TC89_KCOS)[0]\n",
    "\n",
    "    boxes = []\n",
    "    for contour in contours:\n",
    "        boxes.append(cv.boundingRect(contour))\n",
    "\n",
    "    for box in boxes:\n",
    "        top_left = (box[0], box[1])\n",
    "        bottom_right = (box[0] + box[2], box[1] + box[3])\n",
    "        cv.rectangle(img_original, top_left, bottom_right, (255,0,0), 5)\n",
    "    \n",
    "    axes[idx, 2].imshow(img_original, vmin=0, vmax=1000)\n",
    "    axes[idx, 2].set_title(f\"Image Contours {idx}\")\n",
    "    \n",
    "fig.suptitle(\"Global Threshold\")\n",
    "fig.tight_layout()"
   ]
  }
 ],
 "metadata": {
  "accelerator": "GPU",
  "colab": {
   "collapsed_sections": [
    "TnQJJiRoGtYT"
   ],
   "provenance": []
  },
  "gpuClass": "standard",
  "kernelspec": {
   "display_name": "Python 3 (ipykernel)",
   "language": "python",
   "name": "python3"
  },
  "language_info": {
   "codemirror_mode": {
    "name": "ipython",
    "version": 3
   },
   "file_extension": ".py",
   "mimetype": "text/x-python",
   "name": "python",
   "nbconvert_exporter": "python",
   "pygments_lexer": "ipython3",
   "version": "3.8.10"
  }
 },
 "nbformat": 4,
 "nbformat_minor": 4
}
