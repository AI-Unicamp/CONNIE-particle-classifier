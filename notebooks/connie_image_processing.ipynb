{
 "cells": [
  {
   "attachments": {},
   "cell_type": "markdown",
   "metadata": {
    "id": "GiuU7RrO-JkL"
   },
   "source": [
    "# Image Processing"
   ]
  },
  {
   "cell_type": "code",
   "execution_count": 2,
   "metadata": {},
   "outputs": [],
   "source": [
    "%run ./notebook_init.py\n",
    "\n",
    "import os\n",
    "import cv2 as cv\n",
    "import numpy as np\n",
    "from shutil import rmtree\n",
    "\n",
    "from glob import glob\n",
    "from astropy.io import fits\n",
    "from pathlib import Path\n",
    "from core import DATA_FOLDER"
   ]
  },
  {
   "cell_type": "code",
   "execution_count": 2,
   "metadata": {},
   "outputs": [],
   "source": [
    "file_ext = \"fits\"\n",
    "\n",
    "image_folder_path = os.path.join(DATA_FOLDER, \"connie_raw_dataset\")\n",
    "calibrated_img_path = os.path.join(image_folder_path, \"calibrated_images\")"
   ]
  },
  {
   "cell_type": "code",
   "execution_count": 3,
   "metadata": {},
   "outputs": [],
   "source": [
    "calibrated_img_path_list = glob(os.path.join(calibrated_img_path, \"*\" + file_ext))"
   ]
  },
  {
   "cell_type": "code",
   "execution_count": 4,
   "metadata": {},
   "outputs": [],
   "source": [
    "calibrated_img = []\n",
    "mask = []\n",
    "calibrated_img_filename = []\n",
    "\n",
    "for img in calibrated_img_path_list:\n",
    "    calibrated_img.append(fits.open(img)[0])\n",
    "    calibrated_img_filename.append(Path(img).stem)"
   ]
  },
  {
   "cell_type": "code",
   "execution_count": 5,
   "metadata": {},
   "outputs": [],
   "source": [
    "calibrated_img_list = []\n",
    "for img in calibrated_img:\n",
    "    calibrated_img_list.append(img.data)"
   ]
  },
  {
   "cell_type": "code",
   "execution_count": 6,
   "metadata": {},
   "outputs": [
    {
     "name": "stdout",
     "output_type": "stream",
     "text": [
      "Shape calibrated_img_np = (1002, 1022, 420)\n"
     ]
    }
   ],
   "source": [
    "calibrated_img_np = np.array(calibrated_img_list)\n",
    "print(f\"Shape calibrated_img_np = {np.shape(calibrated_img_np)}\")"
   ]
  },
  {
   "cell_type": "code",
   "execution_count": 7,
   "metadata": {},
   "outputs": [],
   "source": [
    "num_imgs = 10\n",
    "nrows = 2\n",
    "ncols = 5"
   ]
  },
  {
   "cell_type": "code",
   "execution_count": 8,
   "metadata": {},
   "outputs": [],
   "source": [
    "new_mask = np.full(np.shape(calibrated_img_np[0]), False)\n",
    "\n",
    "prescan = 8\n",
    "overscan = 70\n",
    "frame = 5\n",
    "\n",
    "# new_mask[:, :prescan+frame] = True\n",
    "# new_mask[:, -(overscan+frame):] = True\n",
    "# new_mask[:frame, :] = True\n",
    "# new_mask[-frame:, :] = True\n",
    "\n",
    "new_mask[:, :frame] = True\n",
    "new_mask[:, -frame:] = True\n",
    "new_mask[:frame, :] = True\n",
    "new_mask[-frame:, :] = True"
   ]
  },
  {
   "cell_type": "code",
   "execution_count": 9,
   "metadata": {},
   "outputs": [],
   "source": [
    "def replace_negative(img):\n",
    "    # 4 sigma (0.16) == 0.64\n",
    "    return img.clip(0.64)"
   ]
  },
  {
   "cell_type": "code",
   "execution_count": 10,
   "metadata": {},
   "outputs": [],
   "source": [
    "masked_border_img = []\n",
    "\n",
    "for img in calibrated_img_np:\n",
    "    masked_border_img.append(replace_negative(np.ma.masked_array(img, new_mask, fill_value=np.nan)))"
   ]
  },
  {
   "attachments": {},
   "cell_type": "markdown",
   "metadata": {},
   "source": [
    "### Global thresholding"
   ]
  },
  {
   "cell_type": "code",
   "execution_count": 11,
   "metadata": {},
   "outputs": [
    {
     "name": "stdout",
     "output_type": "stream",
     "text": [
      "Threshold in e- value equivalent to 10eV = 2.67022696929239\n"
     ]
    }
   ],
   "source": [
    "factor = 3.745\n",
    "threshold_ev = 10\n",
    "threshold = threshold_ev/factor\n",
    "print(f\"Threshold in e- value equivalent to {threshold_ev}eV = {threshold}\")"
   ]
  },
  {
   "attachments": {},
   "cell_type": "markdown",
   "metadata": {},
   "source": [
    "### Saving cropped images"
   ]
  },
  {
   "attachments": {},
   "cell_type": "markdown",
   "metadata": {},
   "source": [
    "#### Opening (erosion + dilatation) and erosion"
   ]
  },
  {
   "cell_type": "code",
   "execution_count": 12,
   "metadata": {},
   "outputs": [],
   "source": [
    "cropped_imgs_path = os.path.join(DATA_FOLDER, \"connie_cropped_dataset\", \"unknown_label\")\n",
    "\n",
    "if os.path.exists(cropped_imgs_path):\n",
    "    rmtree(cropped_imgs_path)\n",
    "\n",
    "os.makedirs(cropped_imgs_path)"
   ]
  },
  {
   "cell_type": "code",
   "execution_count": 13,
   "metadata": {},
   "outputs": [],
   "source": [
    "for idx, img in enumerate(masked_border_img):\n",
    "    img_clip = masked_border_img[idx]\n",
    "    img_original = masked_border_img[idx].copy()\n",
    "    blurred_img = cv.GaussianBlur(img_clip, (3, 3), 0)\n",
    "    _, img_thresh = cv.threshold(blurred_img, threshold, 255, cv.THRESH_BINARY)\n",
    "    mask = cv.morphologyEx(img_thresh.astype(np.uint8), cv.MORPH_OPEN,\n",
    "                           cv.getStructuringElement(cv.MORPH_CROSS,(3,3)))\n",
    "    mask = cv.dilate(mask,\n",
    "                     cv.getStructuringElement(cv.MORPH_CROSS,(1,1)), iterations=1)\n",
    "    mask = cv.erode(mask,\n",
    "                    cv.getStructuringElement(cv.MORPH_CROSS,(4, 4)), iterations=1)\n",
    "    contours = cv.findContours(mask, cv.RETR_TREE, cv.CHAIN_APPROX_TC89_KCOS)[0]\n",
    "    contour_area_min = 2\n",
    "\n",
    "    boxes = []\n",
    "    for contour in contours:\n",
    "        if (cv.contourArea(contour) >= contour_area_min):\n",
    "            boxes.append(cv.boundingRect(contour))\n",
    "\n",
    "    for box_idx, box in enumerate(boxes):\n",
    "        top_left = (box[0], box[1])\n",
    "        bottom_right = (box[0] + box[2], box[1] + box[3])\n",
    "        cv.rectangle(img_original, top_left, bottom_right, (255, 0, 0), 5)\n",
    "        cropped_img = img_clip[box[1]:box[1] + box[3], box[0]: box[0]+box[2]]\n",
    "        padding_img = cv.copyMakeBorder(cropped_img, 30, 30, 30, 30,\n",
    "                                        cv.BORDER_CONSTANT, None, value=0) \n",
    "        cv.imwrite(os.path.join(cropped_imgs_path, calibrated_img_filename[idx]\n",
    "                                + \"_\" + str(box_idx) + \".png\"), padding_img)"
   ]
  }
 ],
 "metadata": {
  "accelerator": "GPU",
  "colab": {
   "collapsed_sections": [
    "TnQJJiRoGtYT"
   ],
   "provenance": []
  },
  "gpuClass": "standard",
  "kernelspec": {
   "display_name": "Python 3 (ipykernel)",
   "language": "python",
   "name": "python3"
  },
  "language_info": {
   "codemirror_mode": {
    "name": "ipython",
    "version": 3
   },
   "file_extension": ".py",
   "mimetype": "text/x-python",
   "name": "python",
   "nbconvert_exporter": "python",
   "pygments_lexer": "ipython3",
   "version": "3.8.10"
  }
 },
 "nbformat": 4,
 "nbformat_minor": 4
}
