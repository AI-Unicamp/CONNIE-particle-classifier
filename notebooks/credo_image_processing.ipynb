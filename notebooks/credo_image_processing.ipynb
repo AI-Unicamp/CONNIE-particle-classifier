{
  "cells": [
    {
      "attachments": {},
      "cell_type": "markdown",
      "metadata": {
        "id": "GiuU7RrO-JkL"
      },
      "source": [
        "# CREDO image processing"
      ]
    },
    {
      "cell_type": "code",
      "execution_count": 2,
      "metadata": {
        "id": "C9LHbRMGbDNj"
      },
      "outputs": [],
      "source": [
        "%run ./notebook_init.py\n",
        "\n",
        "import os\n",
        "import numpy as np\n",
        "import matplotlib.pyplot as plt\n",
        "from PIL import Image\n",
        "from sklearn.model_selection import train_test_split\n",
        "from core import DATA_FOLDER"
      ]
    },
    {
      "cell_type": "code",
      "execution_count": null,
      "metadata": {
        "colab": {
          "base_uri": "https://localhost:8080/"
        },
        "id": "GAuz1Bpxp4t_",
        "outputId": "be6a441f-a7b3-47ec-e752-8cd43be41532"
      },
      "outputs": [],
      "source": [
        "raw_data = os.path.join(DATA_FOLDER, \"credo_raw_dataset\")\n",
        "\n",
        "data_path_line = os.path.join(raw_data, \"hits_votes_4_Lines\")\n",
        "data_path_worm = os.path.join(raw_data, \"hits_votes_4_Worms\")\n",
        "data_path_dot = os.path.join(raw_data, \"hits_votes_4_Dots\")\n",
        "data_path_artefacts = os.path.join(raw_data, \"artefacts\")"
      ]
    },
    {
      "cell_type": "code",
      "execution_count": null,
      "metadata": {},
      "outputs": [],
      "source": [
        "x_data_line = os.listdir(data_path_line)\n",
        "x_data_worm = os.listdir(data_path_worm)\n",
        "x_data_dot = os.listdir(data_path_dot)\n",
        "x_data_artefacts = os.listdir(data_path_artefacts)\n"
      ]
    },
    {
      "cell_type": "code",
      "execution_count": null,
      "metadata": {},
      "outputs": [],
      "source": [
        "particle_topology = {\"line\": 0, \"worm\": 1, \"dot\": 2, \"artefacts\": 4}"
      ]
    },
    {
      "cell_type": "code",
      "execution_count": null,
      "metadata": {},
      "outputs": [],
      "source": [
        "y_data_line = [particle_topology[\"line\"]]*len(x_data_line)\n",
        "y_data_worm = [particle_topology[\"worm\"]]*len(x_data_worm)\n",
        "y_data_dot = [particle_topology[\"dot\"]]*len(x_data_dot)\n",
        "y_data_artefacts = [particle_topology[\"artefacts\"]]*len(x_data_artefacts)"
      ]
    },
    {
      "cell_type": "code",
      "execution_count": null,
      "metadata": {},
      "outputs": [],
      "source": [
        "train_ratio = 0.70\n",
        "validation_ratio = 0.15\n",
        "test_ratio = 0.15\n",
        "random_state = 1000\n",
        "test_val_size = 1-train_ratio\n",
        "test_size = test_ratio/(test_ratio + validation_ratio)"
      ]
    },
    {
      "cell_type": "code",
      "execution_count": null,
      "metadata": {
        "id": "cYJRXuPCqMdP"
      },
      "outputs": [],
      "source": [
        "x_train_line, x_test_line, _, _ = train_test_split(x_data_line,\n",
        "                                                   y_data_line,\n",
        "                                                   test_size=test_val_size,\n",
        "                                                   random_state=random_state)\n",
        "x_val_line, x_test_line, _, _ = train_test_split(x_test_line, _,\n",
        "                                                 test_size=test_size,\n",
        "                                                 random_state=random_state) \n",
        "\n",
        "x_train_worm, x_test_worm, _, _ = train_test_split(x_data_worm,\n",
        "                                                   y_data_worm,\n",
        "                                                   test_size=test_val_size,\n",
        "                                                   random_state=random_state)\n",
        "x_val_worm, x_test_worm, _, _ = train_test_split(x_test_worm, _,\n",
        "                                                 test_size=test_size,\n",
        "                                                 random_state=random_state)\n",
        "\n",
        "x_train_dot, x_test_dot, _, _ = train_test_split(x_data_dot,\n",
        "                                                 y_data_dot,\n",
        "                                                 test_size=test_val_size,\n",
        "                                                 random_state=random_state)\n",
        "x_val_dot, x_test_dot, _, _ = train_test_split(x_test_dot, _,\n",
        "                                               test_size=test_size,\n",
        "                                               random_state=random_state)\n",
        "\n",
        "x_train_artefacts, x_test_artefacts, _, _ = train_test_split(x_data_artefacts,\n",
        "                                                             y_data_artefacts,\n",
        "                                                             test_size=test_val_size,\n",
        "                                                             random_state=random_state)\n",
        "x_val_artefacts, x_test_artefacts, _, _ = train_test_split(x_test_artefacts, _,\n",
        "                                                           test_size=test_size,\n",
        "                                                           random_state=random_state)"
      ]
    },
    {
      "cell_type": "code",
      "execution_count": null,
      "metadata": {},
      "outputs": [],
      "source": [
        "print(\"Total line data: {}\\n\"\n",
        "      \"Train line data: {}\\n\"\n",
        "      \"Test line data: {}\\n\"\n",
        "      \"Val line data: {}\"\n",
        "      .format(len(x_data_line),\n",
        "              len(x_train_line),\n",
        "              len(x_test_line),\n",
        "              len(x_val_line)))\n",
        "print(\"---------------------------------\")\n",
        "print(\"Total worm data: {}\\n\"\n",
        "      \"Train worm data: {}\\n\"\n",
        "      \"Test worm data: {}\\n\"\n",
        "      \"Val worm data: {}\"\n",
        "      .format(len(x_data_worm),\n",
        "              len(x_train_worm),\n",
        "              len(x_test_worm),\n",
        "              len(x_val_worm)))\n",
        "print(\"---------------------------------\")\n",
        "\n",
        "print(\"Total dot data: {}\\n\"\n",
        "      \"Train dot data: {}\\n\"\n",
        "      \"Test dot data: {}\\n\"\n",
        "      \"Val dot data: {}\"\n",
        "      .format(len(x_data_dot),\n",
        "              len(x_train_dot),\n",
        "              len(x_test_dot),\n",
        "              len(x_val_dot)))\n",
        "print(\"---------------------------------\")\n",
        "\n",
        "print(\"Total artefacts data: {}\\n\"\n",
        "      \"Train artefacts data: {}\\n\"\n",
        "      \"Test artefacts data: {}\\n\"\n",
        "      \"Val artefacts data: {}\"\n",
        "      .format(len(x_data_artefacts),\n",
        "              len(x_train_artefacts),\n",
        "              len(x_test_artefacts),\n",
        "              len(x_val_artefacts)))\n",
        "print(\"---------------------------------\")"
      ]
    },
    {
      "cell_type": "code",
      "execution_count": null,
      "metadata": {},
      "outputs": [],
      "source": [
        "for i in range(10):\n",
        "    print(\"Image\", i)\n",
        "    img = Image.open(os.path.join(data_path_line, x_train_line[i]))\n",
        "    img_array = np.asarray(img)\n",
        "    print(\"Data type = \", img_array.dtype)\n",
        "    print(\"Array shape = \", img_array.shape)\n",
        "    print(\"Max value = \", np.max(img_array))\n",
        "    print(\"Min value = \", np.min(img_array))\n",
        "    print(\"-----------------------------\")"
      ]
    },
    {
      "cell_type": "code",
      "execution_count": null,
      "metadata": {},
      "outputs": [],
      "source": [
        "fig, ax = plt.subplots(nrows=5, ncols=5)\n",
        "for row in ax:\n",
        "    for idx, col in enumerate(row):\n",
        "        col.imshow(Image.open(os.path.join(data_path_line, x_train_line[idx])))\n",
        "        col.axis(\"off\")\n",
        "plt.show()"
      ]
    },
    {
      "cell_type": "code",
      "execution_count": null,
      "metadata": {},
      "outputs": [],
      "source": [
        "def create_directory(folder):\n",
        "    if not os.path.exists(folder):\n",
        "        print(\"Creating folder {}\".format(folder))\n",
        "        os.makedirs(folder) \n",
        "    else:\n",
        "        print(\"Folder {} already exists\".format(folder))"
      ]
    },
    {
      "cell_type": "code",
      "execution_count": null,
      "metadata": {},
      "outputs": [],
      "source": [
        "processed_data_folder = os.path.join(DATA_FOLDER, \"credo_processed_dataset\")\n",
        "\n",
        "train_data_folder = os.path.join(processed_data_folder, \"train\")\n",
        "test_data_folder = os.path.join(processed_data_folder, \"test\")\n",
        "val_data_folder = os.path.join(processed_data_folder, \"val\")\n",
        "\n",
        "train_data_line_folder = os.path.join(train_data_folder, \"line\")\n",
        "train_data_worm_folder = os.path.join(train_data_folder, \"worm\")\n",
        "train_data_dot_folder = os.path.join(train_data_folder, \"dot\")\n",
        "train_data_artefacts_folder = os.path.join(train_data_folder, \"artefacts\")\n",
        "\n",
        "test_data_line_folder = os.path.join(test_data_folder, \"line\")\n",
        "test_data_worm_folder = os.path.join(test_data_folder, \"worm\")\n",
        "test_data_dot_folder = os.path.join(test_data_folder, \"dot\")\n",
        "test_data_artefacts_folder = os.path.join(test_data_folder, \"artefacts\")\n",
        "\n",
        "val_data_line_folder = os.path.join(val_data_folder, \"line\")\n",
        "val_data_worm_folder = os.path.join(val_data_folder, \"worm\")\n",
        "val_data_dot_folder = os.path.join(val_data_folder, \"dot\")\n",
        "val_data_artefacts_folder = os.path.join(val_data_folder, \"artefacts\")"
      ]
    },
    {
      "cell_type": "code",
      "execution_count": null,
      "metadata": {},
      "outputs": [],
      "source": [
        "create_directory(processed_data_folder)\n",
        "\n",
        "create_directory(train_data_folder)\n",
        "create_directory(test_data_folder)\n",
        "create_directory(val_data_folder)\n",
        "\n",
        "create_directory(train_data_line_folder)\n",
        "create_directory(train_data_worm_folder)\n",
        "create_directory(train_data_dot_folder)\n",
        "create_directory(train_data_artefacts_folder)\n",
        "\n",
        "create_directory(test_data_line_folder)\n",
        "create_directory(test_data_worm_folder)\n",
        "create_directory(test_data_dot_folder)\n",
        "create_directory(test_data_artefacts_folder)\n",
        "\n",
        "create_directory(val_data_line_folder)\n",
        "create_directory(val_data_worm_folder)\n",
        "create_directory(val_data_dot_folder)\n",
        "create_directory(val_data_artefacts_folder)"
      ]
    },
    {
      "cell_type": "code",
      "execution_count": null,
      "metadata": {},
      "outputs": [],
      "source": [
        "def save_cmyk2gray(source_files, input_folder, destination_folder):\n",
        "    for file in source_files:\n",
        "        img = Image.open(os.path.join(input_folder, file)).convert(\"L\")\n",
        "        img.save(os.path.join(destination_folder, file))"
      ]
    },
    {
      "cell_type": "code",
      "execution_count": null,
      "metadata": {
        "id": "YurigLJ-W2Ts"
      },
      "outputs": [],
      "source": [
        "# train data\n",
        "save_cmyk2gray(x_train_line, data_path_line, train_data_line_folder)\n",
        "save_cmyk2gray(x_train_worm, data_path_worm, train_data_worm_folder)\n",
        "save_cmyk2gray(x_train_dot, data_path_dot, train_data_dot_folder)\n",
        "save_cmyk2gray(x_train_artefacts, data_path_artefacts, train_data_artefacts_folder)\n",
        "\n",
        "# test data\n",
        "save_cmyk2gray(x_test_line, data_path_line, test_data_line_folder)\n",
        "save_cmyk2gray(x_test_worm, data_path_worm, test_data_worm_folder)\n",
        "save_cmyk2gray(x_test_dot, data_path_dot, test_data_dot_folder)\n",
        "save_cmyk2gray(x_test_artefacts, data_path_artefacts, test_data_artefacts_folder)\n",
        "\n",
        "# val data\n",
        "save_cmyk2gray(x_val_line, data_path_line, val_data_line_folder)\n",
        "save_cmyk2gray(x_val_worm, data_path_worm, val_data_worm_folder)\n",
        "save_cmyk2gray(x_val_dot, data_path_dot, val_data_dot_folder)\n",
        "save_cmyk2gray(x_val_artefacts, data_path_artefacts, val_data_artefacts_folder)"
      ]
    },
    {
      "cell_type": "code",
      "execution_count": null,
      "metadata": {},
      "outputs": [],
      "source": [
        "for i in range(10):\n",
        "    print(\"Image\", i)\n",
        "    img_processed = Image.open(os.path.join(train_data_line_folder, x_train_line[i]))\n",
        "    img_processed_array = np.asarray(img_processed)\n",
        "    print(\"Data type = \", img_processed_array.dtype)\n",
        "    print(\"Array shape = \", img_processed_array.shape)\n",
        "    print(\"Max value = \", np.max(img_processed_array))\n",
        "    print(\"Min value = \", np.min(img_processed_array))\n",
        "    print(\"-----------------------------\")\n"
      ]
    }
  ],
  "metadata": {
    "accelerator": "GPU",
    "colab": {
      "collapsed_sections": [
        "TnQJJiRoGtYT"
      ],
      "provenance": []
    },
    "gpuClass": "standard",
    "kernelspec": {
      "display_name": "Python 3",
      "name": "python3"
    },
    "language_info": {
      "codemirror_mode": {
        "name": "ipython",
        "version": 3
      },
      "file_extension": ".py",
      "mimetype": "text/x-python",
      "name": "python",
      "nbconvert_exporter": "python",
      "pygments_lexer": "ipython3",
      "version": "3.8.10"
    }
  },
  "nbformat": 4,
  "nbformat_minor": 0
}
