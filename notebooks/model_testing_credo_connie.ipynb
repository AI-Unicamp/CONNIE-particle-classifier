{
 "cells": [
  {
   "attachments": {},
   "cell_type": "markdown",
   "metadata": {},
   "source": [
    "# Testing the model trained on CREDO data using CONNIE data"
   ]
  },
  {
   "cell_type": "code",
   "execution_count": 1,
   "metadata": {},
   "outputs": [],
   "source": [
    "%run ./notebook_init.py\n",
    "\n",
    "import os\n",
    "import torch\n",
    "from shutil import rmtree\n",
    "from torchvision import transforms\n",
    "\n",
    "from core import DATA_FOLDER\n",
    "\n",
    "from scripts.credo_training_utils import PREDICTION_FOLDERPATH,\\\n",
    "    TRAINING_FOLDERPATH, ImageFolderWithPath,\\\n",
    "    Seed, resnet18_model, predict_model"
   ]
  },
  {
   "cell_type": "code",
   "execution_count": null,
   "metadata": {},
   "outputs": [],
   "source": [
    "device = torch.device(\"cuda:0\" if torch.cuda.is_available() else \"cpu\")\n",
    "print(device)"
   ]
  },
  {
   "cell_type": "code",
   "execution_count": null,
   "metadata": {},
   "outputs": [],
   "source": [
    "img_size = (60,60)\n",
    "\n",
    "data_transforms = transforms.Compose([transforms.Resize(img_size),\n",
    "                                      transforms.ToTensor(),\n",
    "                                      transforms.Normalize(0, 1)])"
   ]
  },
  {
   "cell_type": "code",
   "execution_count": null,
   "metadata": {},
   "outputs": [],
   "source": [
    "connie_cropped_dataset = os.path.join(DATA_FOLDER, \"connie_cropped_dataset\")\n",
    "connie_test_dataset = ImageFolderWithPath(connie_cropped_dataset, data_transforms)"
   ]
  },
  {
   "cell_type": "code",
   "execution_count": null,
   "metadata": {},
   "outputs": [],
   "source": [
    "seed = Seed()"
   ]
  },
  {
   "cell_type": "code",
   "execution_count": null,
   "metadata": {},
   "outputs": [],
   "source": [
    "connie_test_loader = torch.utils.data.DataLoader(connie_test_dataset,\n",
    "                                                 batch_size=64,\n",
    "                                                 shuffle=True,\n",
    "                                                 num_workers=2,\n",
    "                                                 worker_init_fn=seed.seed_worker)"
   ]
  },
  {
   "cell_type": "code",
   "execution_count": null,
   "metadata": {},
   "outputs": [],
   "source": [
    "class_qty = 4\n",
    "\n",
    "class_names =  [\"artefacts\", \"dot\", \"line\", \"worm\"]\n",
    "\n",
    "best_model_filepath = os.path.join(TRAINING_FOLDERPATH, \"best_model_weight\",\n",
    "                                   \"best_model_params.pt\")\n",
    "\n",
    "connie_prediction_output = os.path.join(PREDICTION_FOLDERPATH,\n",
    "                                        \"connie_prediction\")\n",
    "os.makedirs(connie_prediction_output, exist_ok=True)\n",
    "\n",
    "for curr_class in class_names:\n",
    "    curr_class_path = os.path.join(connie_prediction_output, curr_class)\n",
    "    if os.path.exists(curr_class_path):\n",
    "        rmtree(curr_class_path)\n",
    "    os.makedirs(curr_class_path, exist_ok=True)"
   ]
  },
  {
   "cell_type": "code",
   "execution_count": null,
   "metadata": {},
   "outputs": [],
   "source": [
    "saved_model = resnet18_model(device, class_qty)\n",
    "saved_model.load_state_dict(torch.load(best_model_filepath))"
   ]
  },
  {
   "cell_type": "code",
   "execution_count": null,
   "metadata": {},
   "outputs": [],
   "source": [
    "_ = predict_model(device, saved_model, class_names, connie_test_loader, connie_prediction_output)"
   ]
  }
 ],
 "metadata": {
  "kernelspec": {
   "display_name": "virtualenv",
   "language": "python",
   "name": "python3"
  },
  "language_info": {
   "codemirror_mode": {
    "name": "ipython",
    "version": 3
   },
   "file_extension": ".py",
   "mimetype": "text/x-python",
   "name": "python",
   "nbconvert_exporter": "python",
   "pygments_lexer": "ipython3",
   "version": "3.8.10"
  },
  "orig_nbformat": 4
 },
 "nbformat": 4,
 "nbformat_minor": 2
}
